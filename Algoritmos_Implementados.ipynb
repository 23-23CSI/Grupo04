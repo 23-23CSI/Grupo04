{
  "nbformat": 4,
  "nbformat_minor": 0,
  "metadata": {
    "colab": {
      "provenance": []
    },
    "kernelspec": {
      "name": "python3",
      "display_name": "Python 3"
    },
    "language_info": {
      "name": "python"
    }
  },
  "cells": [
    {
      "cell_type": "code",
      "source": [
        "import time"
      ],
      "metadata": {
        "id": "zM-VZkT39eVF"
      },
      "execution_count": 5,
      "outputs": []
    },
    {
      "cell_type": "code",
      "execution_count": 10,
      "metadata": {
        "id": "z4AfV37opZnp",
        "colab": {
          "base_uri": "https://localhost:8080/"
        },
        "outputId": "33f67048-50b8-4d4e-cf0b-25dada83b26c"
      },
      "outputs": [
        {
          "output_type": "stream",
          "name": "stdout",
          "text": [
            "Looking in indexes: https://pypi.org/simple, https://us-python.pkg.dev/colab-wheels/public/simple/\n",
            "Collecting pycryptodome\n",
            "  Downloading pycryptodome-3.18.0-cp35-abi3-manylinux_2_17_x86_64.manylinux2014_x86_64.whl (2.1 MB)\n",
            "\u001b[2K     \u001b[90m━━━━━━━━━━━━━━━━━━━━━━━━━━━━━━━━━━━━━━━━\u001b[0m \u001b[32m2.1/2.1 MB\u001b[0m \u001b[31m29.6 MB/s\u001b[0m eta \u001b[36m0:00:00\u001b[0m\n",
            "\u001b[?25hInstalling collected packages: pycryptodome\n",
            "Successfully installed pycryptodome-3.18.0\n"
          ]
        }
      ],
      "source": [
        "!pip install pycryptodome"
      ]
    },
    {
      "cell_type": "code",
      "source": [
        "from Crypto.Cipher import DES3\n",
        "from Crypto import Random\n",
        "\n",
        "from Crypto.Util.Padding import pad, unpad\n",
        "from Crypto.Random import get_random_bytes"
      ],
      "metadata": {
        "id": "dZnV0LA5pmRL"
      },
      "execution_count": 11,
      "outputs": []
    },
    {
      "cell_type": "code",
      "source": [
        "ROJO = '\\033[91m'\n",
        "VERDE = '\\033[92m'\n",
        "AZUL = '\\033[94m'\n",
        "AMARILLO = '\\033[33m'\n",
        "GRIS = '\\033[90m'\n",
        "RESET = '\\033[0m' "
      ],
      "metadata": {
        "id": "IqC7TwGOrk1G"
      },
      "execution_count": 6,
      "outputs": []
    },
    {
      "cell_type": "markdown",
      "source": [
        "ALGORTIMO DES3"
      ],
      "metadata": {
        "id": "PP_CsyZtZ9e0"
      }
    },
    {
      "cell_type": "code",
      "source": [
        "def leer_archivo(num):\n",
        "  nombre_archivo = \"/content/\"+str(num)+\"palabras.txt\"\n",
        "  try:\n",
        "    inicio = time.time()\n",
        "    with open(nombre_archivo, \"r\") as archivo:\n",
        "        contenido = archivo.read()\n",
        "        print(GRIS + \"Archivo leido correctamente.\\n\"+RESET)\n",
        "        fin = time.time()\n",
        "        tiempo_transcurrido =  round((fin - inicio),5)\n",
        "        print(AZUL + \"Tiempo de lectura:\"+RESET, tiempo_transcurrido, \"segundos\" + RESET)\n",
        "        return contenido\n",
        "  except FileNotFoundError:\n",
        "    print(GRIS+\"El archivo no existe.\"+RESET)\n",
        "  except IOError:\n",
        "    print(ROJO+\"Error al leer el archivo.\"+RESET)\n",
        "  "
      ],
      "metadata": {
        "id": "nxy5kvsk01eE"
      },
      "execution_count": 17,
      "outputs": []
    },
    {
      "cell_type": "code",
      "source": [
        "def escribir_archivo(tipo, num, contenido):\n",
        "  nombre_archivo = tipo+\"_de_\"+str(num)+\"palabras.txt\"\n",
        "  try:\n",
        "      with open(nombre_archivo, \"w\") as archivo:\n",
        "          archivo.write(contenido)\n",
        "      print(GRIS + \"Archivo creado y contenido escrito correctamente.\\n\"+RESET)\n",
        "  except IOError:\n",
        "      print(ROJO + \"Error al escribir el archivo.\" + RESET)"
      ],
      "metadata": {
        "id": "aeKXFGvG6UFg"
      },
      "execution_count": 8,
      "outputs": []
    },
    {
      "cell_type": "code",
      "source": [
        "#3DES\n",
        "def cifrado_DES3(texto_plano, llave):\n",
        "  cifrar = DES3.new(llave, DES3.MODE_ECB)\n",
        "  texto_cifrado = cifrar.encrypt(pad(texto_plano, DES3.block_size))\n",
        "  return texto_cifrado\n",
        "\n",
        "def descifrado_DES3(texto_plano, llave):\n",
        "  cifrar = DES3.new(llave, DES3.MODE_ECB)\n",
        "  texto_cifrado = unpad(cifrar.decrypt(texto_plano), DES3.block_size)\n",
        "  return texto_cifrado"
      ],
      "metadata": {
        "id": "6L_4i07a7A39"
      },
      "execution_count": 12,
      "outputs": []
    },
    {
      "cell_type": "code",
      "source": [
        "def algoritmo_DES3(num):\n",
        "  texto = leer_archivo(num)\n",
        "  texto_plano = texto.encode('utf-8')#el texto a bytes\n",
        "\n",
        "  inicio = time.time()\n",
        "  llave_encriptacion = get_random_bytes(16)  # Clave aleatoria de 128 bits (16 bytes)\n",
        "  print(AZUL + \"Clave generada:\"+RESET, llave_encriptacion)\n",
        "  fin = time.time()\n",
        "  tiempo_transcurrido =  round((fin - inicio),5)\n",
        "  print(AZUL + \"Tiempo de generacion de clave:\"+RESET, tiempo_transcurrido, \"segundos\" + RESET)\n",
        "  \"\"\"\n",
        "  if len(llave_encriptacion) != 16:  #la clave debe ser de 16 bytes\n",
        "    llave_encriptacion = pad(llave_encriptacion, 16)\n",
        "    print(VERDE+ \"La clave ha sido rellenada para tener 16 bytes\")\n",
        "  \"\"\"\n",
        "  inicio = time.time()\n",
        "  \n",
        "  texto_cifrado = cifrado_DES3(texto_plano, llave_encriptacion)\n",
        "  escribir_archivo(\"cifradoDES3\",num, texto_cifrado.decode('latin-1'))\n",
        "\n",
        "  fin = time.time()\n",
        "  tiempo_transcurrido =  round((fin - inicio),5)\n",
        "  print(AZUL + \"Tiempo de cifrado:\"+RESET, tiempo_transcurrido, \"segundos\" + RESET)\n",
        "\n",
        "\n",
        "  inicio = time.time()\n",
        "\n",
        "  texto_descifrado = descifrado_DES3(texto_cifrado, llave_encriptacion)\n",
        "  escribir_archivo(\"descifradoDES3\",num, texto_descifrado.decode('latin-1') )\n",
        "\n",
        "  fin = time.time()\n",
        "  tiempo_transcurrido = round((fin - inicio),5)\n",
        "  print(AZUL + \"Tiempo de descifrado:\"+RESET, tiempo_transcurrido, \"segundos\" + RESET)"
      ],
      "metadata": {
        "id": "p-j0sDmoq5VV"
      },
      "execution_count": 13,
      "outputs": []
    },
    {
      "cell_type": "code",
      "source": [
        "algoritmo_DES3(10)\n",
        "algoritmo_DES3(100)\n",
        "algoritmo_DES3(1000)\n",
        "algoritmo_DES3(10000)\n",
        "algoritmo_DES3(100000)\n",
        "algoritmo_DES3(1000000)"
      ],
      "metadata": {
        "id": "pLJ7TgMS7JMu",
        "outputId": "d968d5b2-e49a-41a8-cf01-9393e00adf29",
        "colab": {
          "base_uri": "https://localhost:8080/"
        }
      },
      "execution_count": 18,
      "outputs": [
        {
          "output_type": "stream",
          "name": "stdout",
          "text": [
            "\u001b[90mArchivo leido correctamente.\n",
            "\u001b[0m\n",
            "\u001b[94mTiempo de lectura:\u001b[0m 0.00092 segundos\u001b[0m\n",
            "\u001b[94mClave generada:\u001b[0m b'\\xe9x\\xcf\\xe3\\x1a\\xe7\\xb0\\xf0e\\x07R\\x1c\\xa5d\\xc0T'\n",
            "\u001b[94mTiempo de generacion de clave:\u001b[0m 0.00089 segundos\u001b[0m\n",
            "\u001b[90mArchivo creado y contenido escrito correctamente.\n",
            "\u001b[0m\n",
            "\u001b[94mTiempo de cifrado:\u001b[0m 0.00108 segundos\u001b[0m\n",
            "\u001b[90mArchivo creado y contenido escrito correctamente.\n",
            "\u001b[0m\n",
            "\u001b[94mTiempo de descifrado:\u001b[0m 0.00042 segundos\u001b[0m\n",
            "\u001b[90mArchivo leido correctamente.\n",
            "\u001b[0m\n",
            "\u001b[94mTiempo de lectura:\u001b[0m 9e-05 segundos\u001b[0m\n",
            "\u001b[94mClave generada:\u001b[0m b'\\x89\\xff\\xbb\\xd9\\x8b\\xb6l\\n\\xfa\\x0bSu\\x8aV|\\xbc'\n",
            "\u001b[94mTiempo de generacion de clave:\u001b[0m 4e-05 segundos\u001b[0m\n",
            "\u001b[90mArchivo creado y contenido escrito correctamente.\n",
            "\u001b[0m\n",
            "\u001b[94mTiempo de cifrado:\u001b[0m 0.00036 segundos\u001b[0m\n",
            "\u001b[90mArchivo creado y contenido escrito correctamente.\n",
            "\u001b[0m\n",
            "\u001b[94mTiempo de descifrado:\u001b[0m 0.00036 segundos\u001b[0m\n",
            "\u001b[90mArchivo leido correctamente.\n",
            "\u001b[0m\n",
            "\u001b[94mTiempo de lectura:\u001b[0m 9e-05 segundos\u001b[0m\n",
            "\u001b[94mClave generada:\u001b[0m b\"s\\xc5M\\x91\\xc3\\x08n\\x8b\\xb3\\x1a4\\x8a\\xd9\\xfd'N\"\n",
            "\u001b[94mTiempo de generacion de clave:\u001b[0m 3e-05 segundos\u001b[0m\n",
            "\u001b[90mArchivo creado y contenido escrito correctamente.\n",
            "\u001b[0m\n",
            "\u001b[94mTiempo de cifrado:\u001b[0m 0.01172 segundos\u001b[0m\n",
            "\u001b[90mArchivo creado y contenido escrito correctamente.\n",
            "\u001b[0m\n",
            "\u001b[94mTiempo de descifrado:\u001b[0m 0.00075 segundos\u001b[0m\n",
            "\u001b[90mArchivo leido correctamente.\n",
            "\u001b[0m\n",
            "\u001b[94mTiempo de lectura:\u001b[0m 0.00028 segundos\u001b[0m\n",
            "\u001b[94mClave generada:\u001b[0m b'\\xb8\\xd4P\\x93U\\xfe\\xedg\\x81z^\\x01\\xe1\\x0b\\xe9G'\n",
            "\u001b[94mTiempo de generacion de clave:\u001b[0m 3e-05 segundos\u001b[0m\n",
            "\u001b[90mArchivo creado y contenido escrito correctamente.\n",
            "\u001b[0m\n",
            "\u001b[94mTiempo de cifrado:\u001b[0m 0.01631 segundos\u001b[0m\n",
            "\u001b[90mArchivo creado y contenido escrito correctamente.\n",
            "\u001b[0m\n",
            "\u001b[94mTiempo de descifrado:\u001b[0m 0.00396 segundos\u001b[0m\n",
            "\u001b[90mArchivo leido correctamente.\n",
            "\u001b[0m\n",
            "\u001b[94mTiempo de lectura:\u001b[0m 0.00738 segundos\u001b[0m\n",
            "\u001b[94mClave generada:\u001b[0m b'\\x8f\\xb7pC\\xb4\\xf7c\\xb0h\\x90\\x84_qa^M'\n",
            "\u001b[94mTiempo de generacion de clave:\u001b[0m 5e-05 segundos\u001b[0m\n",
            "\u001b[90mArchivo creado y contenido escrito correctamente.\n",
            "\u001b[0m\n",
            "\u001b[94mTiempo de cifrado:\u001b[0m 0.04648 segundos\u001b[0m\n",
            "\u001b[90mArchivo creado y contenido escrito correctamente.\n",
            "\u001b[0m\n",
            "\u001b[94mTiempo de descifrado:\u001b[0m 0.03801 segundos\u001b[0m\n",
            "\u001b[90mArchivo leido correctamente.\n",
            "\u001b[0m\n",
            "\u001b[94mTiempo de lectura:\u001b[0m 0.02855 segundos\u001b[0m\n",
            "\u001b[94mClave generada:\u001b[0m b'\\xf7/\\x0f]lD\\x0bx]\\xa9\\x93L5\\xd7=*'\n",
            "\u001b[94mTiempo de generacion de clave:\u001b[0m 0.00107 segundos\u001b[0m\n",
            "\u001b[90mArchivo creado y contenido escrito correctamente.\n",
            "\u001b[0m\n",
            "\u001b[94mTiempo de cifrado:\u001b[0m 0.45022 segundos\u001b[0m\n",
            "\u001b[90mArchivo creado y contenido escrito correctamente.\n",
            "\u001b[0m\n",
            "\u001b[94mTiempo de descifrado:\u001b[0m 0.35199 segundos\u001b[0m\n"
          ]
        }
      ]
    },
    {
      "cell_type": "markdown",
      "source": [
        "ALGORTIMO TWOFISH"
      ],
      "metadata": {
        "id": "OJDdNzAFaDV0"
      }
    },
    {
      "cell_type": "code",
      "source": [
        "!pip install twofish"
      ],
      "metadata": {
        "id": "uRaV1uM0yaJY",
        "colab": {
          "base_uri": "https://localhost:8080/"
        },
        "outputId": "c97509b0-3107-4410-a049-9ad1cfec1cbd"
      },
      "execution_count": 24,
      "outputs": [
        {
          "output_type": "stream",
          "name": "stdout",
          "text": [
            "Looking in indexes: https://pypi.org/simple, https://us-python.pkg.dev/colab-wheels/public/simple/\n",
            "Collecting twofish\n",
            "  Downloading twofish-0.3.0.tar.gz (26 kB)\n",
            "  Preparing metadata (setup.py) ... \u001b[?25l\u001b[?25hdone\n",
            "Building wheels for collected packages: twofish\n",
            "  Building wheel for twofish (setup.py) ... \u001b[?25l\u001b[?25hdone\n",
            "  Created wheel for twofish: filename=twofish-0.3.0-cp310-cp310-linux_x86_64.whl size=28942 sha256=f1c727c0d7fdae621a607b8e71b697577df2d08dd529310e24ce350d38a08404\n",
            "  Stored in directory: /root/.cache/pip/wheels/a7/3c/27/c390be4f3e8a299d4b2836f8daa19697eb991eacbfabe25031\n",
            "Successfully built twofish\n",
            "Installing collected packages: twofish\n",
            "Successfully installed twofish-0.3.0\n"
          ]
        }
      ]
    },
    {
      "cell_type": "code",
      "source": [
        "from twofish import Twofish"
      ],
      "metadata": {
        "id": "JkXNxR1ryraO"
      },
      "execution_count": 25,
      "outputs": []
    },
    {
      "cell_type": "code",
      "source": [
        "#Two Fish\n",
        "def cifrado_TF(texto, password):\n",
        "    bs = 16  # block size 16 bytes o 128 bits\n",
        "    padded_texto = pad(texto, bs)\n",
        "    T = Twofish(password)\n",
        "    texto_cifrado = b''\n",
        "    for x in range(int(len(padded_texto) / bs)):\n",
        "        texto_cifrado += T.encrypt(padded_texto[x * bs:(x + 1) * bs])\n",
        "\n",
        "    return texto_cifrado\n",
        "\n",
        "def descifrado_TF(texto, password):\n",
        "    bs = 16  # block size 16 bytes o 128 bits\n",
        "    T = Twofish(password)\n",
        "    texto_plano = b''\n",
        "    for x in range(int(len(texto) / bs)):\n",
        "        texto_plano += T.decrypt(texto[x * bs:(x + 1) * bs])\n",
        "   \n",
        "    texto_plano = unpad(texto_plano, bs)\n",
        "    return texto_plano"
      ],
      "metadata": {
        "id": "vi8HoBqaEjnv"
      },
      "execution_count": 22,
      "outputs": []
    },
    {
      "cell_type": "code",
      "source": [
        "def algoritmo_TF(num):\n",
        "  texto = leer_archivo(num)\n",
        "  texto_plano = texto.encode('utf-8') \n",
        "\n",
        "  inicio = time.time()\n",
        "  llave_encriptacion = get_random_bytes(16)  # Clave aleatoria de 128 bits (16 bytes)\n",
        "  print(AZUL + \"Clave generada:\"+RESET, llave_encriptacion)\n",
        "  fin = time.time()\n",
        "  tiempo_transcurrido =  round((fin - inicio),5)\n",
        "  print(AZUL + \"Tiempo de generacion de clave:\"+RESET, tiempo_transcurrido, \"segundos\" + RESET)\n",
        "\n",
        "\n",
        "  inicio = time.time()\n",
        "  \n",
        "  texto_cifrado = cifrado_TF(texto_plano, llave_encriptacion)\n",
        "  escribir_archivo(\"cifradoTF\",num, texto_cifrado.decode('latin-1'))\n",
        "  fin = time.time()\n",
        "  tiempo_transcurrido =  round((fin - inicio),5)\n",
        "  print(AZUL + \"Tiempo de cifrado:\"+RESET, tiempo_transcurrido, \"segundos\" + RESET)\n",
        "\n",
        "\n",
        "  inicio = time.time()\n",
        "\n",
        "  texto_descifrado = descifrado_TF(texto_cifrado, llave_encriptacion)\n",
        "  escribir_archivo(\"descifradoTF\",num, texto_descifrado.decode('latin-1') )\n",
        "\n",
        "  fin = time.time()\n",
        "  tiempo_transcurrido = round((fin - inicio),5)\n",
        "  print(AZUL + \"Tiempo de descifrado:\"+RESET, tiempo_transcurrido, \"segundos\" + RESET)\n",
        "\n",
        "\n",
        "  "
      ],
      "metadata": {
        "id": "9GBX-ezxIEpc"
      },
      "execution_count": 21,
      "outputs": []
    },
    {
      "cell_type": "code",
      "source": [
        "algoritmo_TF(10)\n",
        "algoritmo_TF(100)\n",
        "algoritmo_TF(1000)\n",
        "algoritmo_TF(10000)\n",
        "algoritmo_TF(100000)\n",
        "algoritmo_TF(1000000)"
      ],
      "metadata": {
        "id": "EeHJHYCxJZ0t",
        "outputId": "1b8d5a31-dbc7-4fe8-88c5-9ad1268299b4",
        "colab": {
          "base_uri": "https://localhost:8080/"
        }
      },
      "execution_count": 26,
      "outputs": [
        {
          "output_type": "stream",
          "name": "stdout",
          "text": [
            "\u001b[90mArchivo leido correctamente.\n",
            "\u001b[0m\n",
            "\u001b[94mTiempo de lectura:\u001b[0m 0.00185 segundos\u001b[0m\n",
            "\u001b[94mClave generada:\u001b[0m b'7\\xee\\xde]\\x03{L}\\x9d\\x82T\\xa8L\\xe4\\xf2f'\n",
            "\u001b[94mTiempo de generacion de clave:\u001b[0m 7e-05 segundos\u001b[0m\n",
            "\u001b[90mArchivo creado y contenido escrito correctamente.\n",
            "\u001b[0m\n",
            "\u001b[94mTiempo de cifrado:\u001b[0m 0.00413 segundos\u001b[0m\n",
            "\u001b[90mArchivo creado y contenido escrito correctamente.\n",
            "\u001b[0m\n",
            "\u001b[94mTiempo de descifrado:\u001b[0m 0.00028 segundos\u001b[0m\n",
            "\u001b[90mArchivo leido correctamente.\n",
            "\u001b[0m\n",
            "\u001b[94mTiempo de lectura:\u001b[0m 9e-05 segundos\u001b[0m\n",
            "\u001b[94mClave generada:\u001b[0m b'\\xe1_\\x8f9\\x90\\xdbr\\x01\\xaa6Il\\xb2\\xd9w\\xff'\n",
            "\u001b[94mTiempo de generacion de clave:\u001b[0m 4e-05 segundos\u001b[0m\n",
            "\u001b[90mArchivo creado y contenido escrito correctamente.\n",
            "\u001b[0m\n",
            "\u001b[94mTiempo de cifrado:\u001b[0m 0.00044 segundos\u001b[0m\n",
            "\u001b[90mArchivo creado y contenido escrito correctamente.\n",
            "\u001b[0m\n",
            "\u001b[94mTiempo de descifrado:\u001b[0m 0.00643 segundos\u001b[0m\n",
            "\u001b[90mArchivo leido correctamente.\n",
            "\u001b[0m\n",
            "\u001b[94mTiempo de lectura:\u001b[0m 0.0001 segundos\u001b[0m\n",
            "\u001b[94mClave generada:\u001b[0m b'MO{\\xbf\\n\\xf00Zc&\\xb3\\xb4~Uj{'\n",
            "\u001b[94mTiempo de generacion de clave:\u001b[0m 3e-05 segundos\u001b[0m\n",
            "\u001b[90mArchivo creado y contenido escrito correctamente.\n",
            "\u001b[0m\n",
            "\u001b[94mTiempo de cifrado:\u001b[0m 0.00454 segundos\u001b[0m\n",
            "\u001b[90mArchivo creado y contenido escrito correctamente.\n",
            "\u001b[0m\n",
            "\u001b[94mTiempo de descifrado:\u001b[0m 0.01458 segundos\u001b[0m\n",
            "\u001b[90mArchivo leido correctamente.\n",
            "\u001b[0m\n",
            "\u001b[94mTiempo de lectura:\u001b[0m 0.00028 segundos\u001b[0m\n",
            "\u001b[94mClave generada:\u001b[0m b'\\xa1\\x7f\\xbdd\\x8b\\xf8\\xc6\\xf1%{\\xc4\\x00h\\tp\\t'\n",
            "\u001b[94mTiempo de generacion de clave:\u001b[0m 3e-05 segundos\u001b[0m\n",
            "\u001b[90mArchivo creado y contenido escrito correctamente.\n",
            "\u001b[0m\n",
            "\u001b[94mTiempo de cifrado:\u001b[0m 0.07362 segundos\u001b[0m\n",
            "\u001b[90mArchivo creado y contenido escrito correctamente.\n",
            "\u001b[0m\n",
            "\u001b[94mTiempo de descifrado:\u001b[0m 0.02708 segundos\u001b[0m\n",
            "\u001b[90mArchivo leido correctamente.\n",
            "\u001b[0m\n",
            "\u001b[94mTiempo de lectura:\u001b[0m 0.00334 segundos\u001b[0m\n",
            "\u001b[94mClave generada:\u001b[0m b'\\x11\\xd2P\\x0b\\x02\\xffan\\x0f}Z\\x98)R6\\xdd'\n",
            "\u001b[94mTiempo de generacion de clave:\u001b[0m 0.00097 segundos\u001b[0m\n",
            "\u001b[90mArchivo creado y contenido escrito correctamente.\n",
            "\u001b[0m\n",
            "\u001b[94mTiempo de cifrado:\u001b[0m 1.31153 segundos\u001b[0m\n",
            "\u001b[90mArchivo creado y contenido escrito correctamente.\n",
            "\u001b[0m\n",
            "\u001b[94mTiempo de descifrado:\u001b[0m 2.17166 segundos\u001b[0m\n",
            "\u001b[90mArchivo leido correctamente.\n",
            "\u001b[0m\n",
            "\u001b[94mTiempo de lectura:\u001b[0m 0.04256 segundos\u001b[0m\n",
            "\u001b[94mClave generada:\u001b[0m b'y\\xb5\\xd9}\\xe6\\xfa\\x08N\\xfc\\xbb\\xa7U\\xfb\\xdfA\\xd3'\n",
            "\u001b[94mTiempo de generacion de clave:\u001b[0m 0.00104 segundos\u001b[0m\n",
            "\u001b[90mArchivo creado y contenido escrito correctamente.\n",
            "\u001b[0m\n",
            "\u001b[94mTiempo de cifrado:\u001b[0m 141.63276 segundos\u001b[0m\n",
            "\u001b[90mArchivo creado y contenido escrito correctamente.\n",
            "\u001b[0m\n",
            "\u001b[94mTiempo de descifrado:\u001b[0m 144.5493 segundos\u001b[0m\n"
          ]
        }
      ]
    },
    {
      "cell_type": "markdown",
      "source": [
        "ALGORTIMO RSA"
      ],
      "metadata": {
        "id": "INwpHh5oaGS0"
      }
    },
    {
      "cell_type": "code",
      "source": [
        "!pip install rsa"
      ],
      "metadata": {
        "colab": {
          "base_uri": "https://localhost:8080/"
        },
        "id": "oKFF91QcMfio",
        "outputId": "16aca93e-68e6-46d5-a18e-627875341fb2"
      },
      "execution_count": 27,
      "outputs": [
        {
          "output_type": "stream",
          "name": "stdout",
          "text": [
            "Looking in indexes: https://pypi.org/simple, https://us-python.pkg.dev/colab-wheels/public/simple/\n",
            "Requirement already satisfied: rsa in /usr/local/lib/python3.10/dist-packages (4.9)\n",
            "Requirement already satisfied: pyasn1>=0.1.3 in /usr/local/lib/python3.10/dist-packages (from rsa) (0.5.0)\n"
          ]
        }
      ]
    },
    {
      "cell_type": "code",
      "source": [
        "import rsa"
      ],
      "metadata": {
        "id": "xJGMDM9UMg1A"
      },
      "execution_count": 28,
      "outputs": []
    },
    {
      "cell_type": "code",
      "source": [
        "def encriptar_archivo(nombre_archivo, clave_publica, num):\n",
        "    inicio = time.time()\n",
        "    with open(nombre_archivo, \"rb\") as archivo:\n",
        "        contenido = archivo.read()\n",
        "\n",
        "    fin = time.time()\n",
        "    tiempo_transcurrido =  round((fin - inicio),5)\n",
        "    print(AZUL + \"Tiempo de lectura:\"+RESET, tiempo_transcurrido, \"segundos\" + RESET)\n",
        "        \n",
        "    archivo_cifrado = \"cifradoRSA_de_\"+str(num)+\"palabras.txt\"\n",
        "\n",
        "    bloques = []\n",
        "    tamanio_bloque = 10  # Tamaño del bloque en bytes\n",
        "    if (num>10):\n",
        "      inicio = time.time()\n",
        "      for i in range(0, len(contenido), tamanio_bloque):\n",
        "          bloque = contenido[i:i+tamanio_bloque]\n",
        "          bloque_cifrado = rsa.encrypt(bloque, clave_publica)\n",
        "          bloques.append(bloque_cifrado)\n",
        "      \n",
        "      fin = time.time()\n",
        "      with open(archivo_cifrado, \"wb\") as archivo:\n",
        "        for bloque_cifrado in bloques:\n",
        "          archivo.write(bloque_cifrado)\n",
        "      print(GRIS + \"Archivo creado y contenido escrito correctamente.\\n\"+RESET)\n",
        "\n",
        "      return round((fin - inicio),5)\n",
        "\n",
        "    else:\n",
        "      inicio = time.time()\n",
        "      cifrado = rsa.encrypt(contenido, clave_publica)\n",
        "\n",
        "      fin = time.time()\n",
        "\n",
        "      with open(archivo_cifrado, \"wb\") as archivo:\n",
        "          archivo.write(cifrado)\n",
        "      print(GRIS + \"Archivo creado y contenido escrito correctamente.\\n\"+RESET)\n",
        "    \n",
        "      return round((fin - inicio),5)\n",
        "\n",
        "\n",
        "def desencriptar_archivo(nombre_archivo_cifrado, clave_privada, num):\n",
        "    with open(nombre_archivo_cifrado, \"rb\") as archivo_cifrado:\n",
        "      bloques_cifrados = archivo_cifrado.read()\n",
        "    \n",
        "    contenido_descifrado = b\"\"\n",
        "    if (num>10):\n",
        "      tamanio_bloque = 256\n",
        "\n",
        "      inicio = time.time()\n",
        "\n",
        "      for i in range(0, len(bloques_cifrados), tamanio_bloque):\n",
        "          bloque_cifrado = bloques_cifrados[i:i+tamanio_bloque]\n",
        "          bloque_descifrado = rsa.decrypt(bloque_cifrado, clave_privada)\n",
        "          contenido_descifrado += bloque_descifrado\n",
        "\n",
        "    else:\n",
        "      inicio = time.time()\n",
        "      contenido_descifrado = rsa.decrypt(bloques_cifrados, clave_privada)\n",
        "\n",
        "    archivo_descifrado = \"descifradoRSA_de_\"+str(num)+\"palabras.txt\"\n",
        "\n",
        "    with open(archivo_descifrado, \"wb\") as archivo:\n",
        "        archivo.write(contenido_descifrado)\n",
        "\n",
        "    print(GRIS + \"Archivo creado y contenido escrito correctamente.\\n\"+RESET)\n",
        "    \n",
        "    fin = time.time()\n",
        "\n",
        "    return round((fin - inicio),5)"
      ],
      "metadata": {
        "id": "wk46Gl3RMi46"
      },
      "execution_count": 32,
      "outputs": []
    },
    {
      "cell_type": "code",
      "source": [
        "def algoritmo_RSA(num):\n",
        "\n",
        "  inicio = time.time()\n",
        "  # Generar un par de claves RSA\n",
        "  (clave_publica, clave_privada) = rsa.newkeys(2048)  # 2048 es la longitud de clave recomendada\n",
        "\n",
        "  # Guardar las claves en archivos\n",
        "  with open(\"clave_publica.pem\", 'w') as archivo:\n",
        "      archivo.write(clave_publica.save_pkcs1().decode())\n",
        "\n",
        "  with open('clave_privada.pem', 'w') as archivo:\n",
        "      archivo.write(clave_privada.save_pkcs1().decode())\n",
        "\n",
        "  fin = time.time()\n",
        "  tiempo_transcurrido =  round((fin - inicio),5)\n",
        "  print(AZUL + \"Tiempo de generacion de claves:\"+RESET, tiempo_transcurrido, \"segundos\" + RESET)\n",
        "  \n",
        "  # Cargar la clave privada desde el archivo\n",
        "  with open('clave_privada.pem', 'r') as archivo:\n",
        "      clave_privada = rsa.PrivateKey.load_pkcs1(archivo.read().encode())\n",
        "\n",
        "  # Direccion del archivo de texto\n",
        "  archivo_texto = \"/content/\"+str(num)+\"palabras.txt\"\n",
        "  \n",
        "  tiempo_transcurrido = encriptar_archivo(archivo_texto, clave_publica, num)\n",
        "  print(AZUL + \"Tiempo de cifrado:\"+RESET, tiempo_transcurrido, \"segundos\" + RESET)\n",
        "\n",
        "\n",
        "  nombre_archivo_cifrado = \"cifradoRSA_de_\"+str(num)+\"palabras.txt\"\n",
        "  \n",
        "\n",
        "  tiempo_transcurrido = desencriptar_archivo(nombre_archivo_cifrado, clave_privada, num)\n",
        "  print(AZUL + \"Tiempo de descifrado:\"+RESET, tiempo_transcurrido, \"segundos\" + RESET)"
      ],
      "metadata": {
        "id": "qXLm30mfmDM6"
      },
      "execution_count": 30,
      "outputs": []
    },
    {
      "cell_type": "code",
      "source": [
        "algoritmo_RSA(10)\n",
        "algoritmo_RSA(100)\n",
        "algoritmo_RSA(1000)\n",
        "algoritmo_RSA(10000)\n",
        "algoritmo_RSA(100000)\n",
        "algoritmo_RSA(1000000)"
      ],
      "metadata": {
        "colab": {
          "base_uri": "https://localhost:8080/",
          "height": 1000
        },
        "id": "qd3Czsd8Smpo",
        "outputId": "25f95caf-336f-4b8c-9aed-07c19a0fc9c9"
      },
      "execution_count": 33,
      "outputs": [
        {
          "output_type": "stream",
          "name": "stdout",
          "text": [
            "\u001b[94mTiempo de generacion de claves:\u001b[0m 12.27702 segundos\u001b[0m\n",
            "\u001b[94mTiempo de lectura:\u001b[0m 3e-05 segundos\u001b[0m\n",
            "\u001b[90mArchivo creado y contenido escrito correctamente.\n",
            "\u001b[0m\n",
            "\u001b[94mTiempo de cifrado:\u001b[0m 0.00029 segundos\u001b[0m\n",
            "\u001b[90mArchivo creado y contenido escrito correctamente.\n",
            "\u001b[0m\n",
            "\u001b[94mTiempo de descifrado:\u001b[0m 0.01186 segundos\u001b[0m\n",
            "\u001b[94mTiempo de generacion de claves:\u001b[0m 4.92086 segundos\u001b[0m\n",
            "\u001b[94mTiempo de lectura:\u001b[0m 5e-05 segundos\u001b[0m\n",
            "\u001b[90mArchivo creado y contenido escrito correctamente.\n",
            "\u001b[0m\n",
            "\u001b[94mTiempo de cifrado:\u001b[0m 0.02068 segundos\u001b[0m\n",
            "\u001b[90mArchivo creado y contenido escrito correctamente.\n",
            "\u001b[0m\n",
            "\u001b[94mTiempo de descifrado:\u001b[0m 0.74859 segundos\u001b[0m\n",
            "\u001b[94mTiempo de generacion de claves:\u001b[0m 4.94788 segundos\u001b[0m\n",
            "\u001b[94mTiempo de lectura:\u001b[0m 3e-05 segundos\u001b[0m\n",
            "\u001b[90mArchivo creado y contenido escrito correctamente.\n",
            "\u001b[0m\n",
            "\u001b[94mTiempo de cifrado:\u001b[0m 0.16251 segundos\u001b[0m\n",
            "\u001b[90mArchivo creado y contenido escrito correctamente.\n",
            "\u001b[0m\n",
            "\u001b[94mTiempo de descifrado:\u001b[0m 7.50535 segundos\u001b[0m\n",
            "\u001b[94mTiempo de generacion de claves:\u001b[0m 1.37067 segundos\u001b[0m\n",
            "\u001b[94mTiempo de lectura:\u001b[0m 5e-05 segundos\u001b[0m\n",
            "\u001b[90mArchivo creado y contenido escrito correctamente.\n",
            "\u001b[0m\n",
            "\u001b[94mTiempo de cifrado:\u001b[0m 1.64678 segundos\u001b[0m\n",
            "\u001b[90mArchivo creado y contenido escrito correctamente.\n",
            "\u001b[0m\n",
            "\u001b[94mTiempo de descifrado:\u001b[0m 75.96142 segundos\u001b[0m\n",
            "\u001b[94mTiempo de generacion de claves:\u001b[0m 4.19089 segundos\u001b[0m\n",
            "\u001b[94mTiempo de lectura:\u001b[0m 0.00031 segundos\u001b[0m\n",
            "\u001b[90mArchivo creado y contenido escrito correctamente.\n",
            "\u001b[0m\n",
            "\u001b[94mTiempo de cifrado:\u001b[0m 17.70787 segundos\u001b[0m\n",
            "\u001b[90mArchivo creado y contenido escrito correctamente.\n",
            "\u001b[0m\n",
            "\u001b[94mTiempo de descifrado:\u001b[0m 735.32225 segundos\u001b[0m\n",
            "\u001b[94mTiempo de generacion de claves:\u001b[0m 3.39105 segundos\u001b[0m\n",
            "\u001b[94mTiempo de lectura:\u001b[0m 0.004 segundos\u001b[0m\n",
            "\u001b[90mArchivo creado y contenido escrito correctamente.\n",
            "\u001b[0m\n",
            "\u001b[94mTiempo de cifrado:\u001b[0m 175.29584 segundos\u001b[0m\n"
          ]
        },
        {
          "output_type": "error",
          "ename": "KeyboardInterrupt",
          "evalue": "ignored",
          "traceback": [
            "\u001b[0;31m---------------------------------------------------------------------------\u001b[0m",
            "\u001b[0;31mKeyboardInterrupt\u001b[0m                         Traceback (most recent call last)",
            "\u001b[0;32m<ipython-input-33-ec5b3448c2ac>\u001b[0m in \u001b[0;36m<cell line: 6>\u001b[0;34m()\u001b[0m\n\u001b[1;32m      4\u001b[0m \u001b[0malgoritmo_RSA\u001b[0m\u001b[0;34m(\u001b[0m\u001b[0;36m10000\u001b[0m\u001b[0;34m)\u001b[0m\u001b[0;34m\u001b[0m\u001b[0;34m\u001b[0m\u001b[0m\n\u001b[1;32m      5\u001b[0m \u001b[0malgoritmo_RSA\u001b[0m\u001b[0;34m(\u001b[0m\u001b[0;36m100000\u001b[0m\u001b[0;34m)\u001b[0m\u001b[0;34m\u001b[0m\u001b[0;34m\u001b[0m\u001b[0m\n\u001b[0;32m----> 6\u001b[0;31m \u001b[0malgoritmo_RSA\u001b[0m\u001b[0;34m(\u001b[0m\u001b[0;36m1000000\u001b[0m\u001b[0;34m)\u001b[0m\u001b[0;34m\u001b[0m\u001b[0;34m\u001b[0m\u001b[0m\n\u001b[0m",
            "\u001b[0;32m<ipython-input-30-ebf98c1d4f60>\u001b[0m in \u001b[0;36malgoritmo_RSA\u001b[0;34m(num)\u001b[0m\n\u001b[1;32m     30\u001b[0m \u001b[0;34m\u001b[0m\u001b[0m\n\u001b[1;32m     31\u001b[0m \u001b[0;34m\u001b[0m\u001b[0m\n\u001b[0;32m---> 32\u001b[0;31m   \u001b[0mtiempo_transcurrido\u001b[0m \u001b[0;34m=\u001b[0m \u001b[0mdesencriptar_archivo\u001b[0m\u001b[0;34m(\u001b[0m\u001b[0mnombre_archivo_cifrado\u001b[0m\u001b[0;34m,\u001b[0m \u001b[0mclave_privada\u001b[0m\u001b[0;34m,\u001b[0m \u001b[0mnum\u001b[0m\u001b[0;34m)\u001b[0m\u001b[0;34m\u001b[0m\u001b[0;34m\u001b[0m\u001b[0m\n\u001b[0m\u001b[1;32m     33\u001b[0m   \u001b[0mprint\u001b[0m\u001b[0;34m(\u001b[0m\u001b[0mAZUL\u001b[0m \u001b[0;34m+\u001b[0m \u001b[0;34m\"Tiempo de descifrado:\"\u001b[0m\u001b[0;34m+\u001b[0m\u001b[0mRESET\u001b[0m\u001b[0;34m,\u001b[0m \u001b[0mtiempo_transcurrido\u001b[0m\u001b[0;34m,\u001b[0m \u001b[0;34m\"segundos\"\u001b[0m \u001b[0;34m+\u001b[0m \u001b[0mRESET\u001b[0m\u001b[0;34m)\u001b[0m\u001b[0;34m\u001b[0m\u001b[0;34m\u001b[0m\u001b[0m\n",
            "\u001b[0;32m<ipython-input-32-7e8409053ede>\u001b[0m in \u001b[0;36mdesencriptar_archivo\u001b[0;34m(nombre_archivo_cifrado, clave_privada, num)\u001b[0m\n\u001b[1;32m     52\u001b[0m       \u001b[0;32mfor\u001b[0m \u001b[0mi\u001b[0m \u001b[0;32min\u001b[0m \u001b[0mrange\u001b[0m\u001b[0;34m(\u001b[0m\u001b[0;36m0\u001b[0m\u001b[0;34m,\u001b[0m \u001b[0mlen\u001b[0m\u001b[0;34m(\u001b[0m\u001b[0mbloques_cifrados\u001b[0m\u001b[0;34m)\u001b[0m\u001b[0;34m,\u001b[0m \u001b[0mtamanio_bloque\u001b[0m\u001b[0;34m)\u001b[0m\u001b[0;34m:\u001b[0m\u001b[0;34m\u001b[0m\u001b[0;34m\u001b[0m\u001b[0m\n\u001b[1;32m     53\u001b[0m           \u001b[0mbloque_cifrado\u001b[0m \u001b[0;34m=\u001b[0m \u001b[0mbloques_cifrados\u001b[0m\u001b[0;34m[\u001b[0m\u001b[0mi\u001b[0m\u001b[0;34m:\u001b[0m\u001b[0mi\u001b[0m\u001b[0;34m+\u001b[0m\u001b[0mtamanio_bloque\u001b[0m\u001b[0;34m]\u001b[0m\u001b[0;34m\u001b[0m\u001b[0;34m\u001b[0m\u001b[0m\n\u001b[0;32m---> 54\u001b[0;31m           \u001b[0mbloque_descifrado\u001b[0m \u001b[0;34m=\u001b[0m \u001b[0mrsa\u001b[0m\u001b[0;34m.\u001b[0m\u001b[0mdecrypt\u001b[0m\u001b[0;34m(\u001b[0m\u001b[0mbloque_cifrado\u001b[0m\u001b[0;34m,\u001b[0m \u001b[0mclave_privada\u001b[0m\u001b[0;34m)\u001b[0m\u001b[0;34m\u001b[0m\u001b[0;34m\u001b[0m\u001b[0m\n\u001b[0m\u001b[1;32m     55\u001b[0m           \u001b[0mcontenido_descifrado\u001b[0m \u001b[0;34m+=\u001b[0m \u001b[0mbloque_descifrado\u001b[0m\u001b[0;34m\u001b[0m\u001b[0;34m\u001b[0m\u001b[0m\n\u001b[1;32m     56\u001b[0m \u001b[0;34m\u001b[0m\u001b[0m\n",
            "\u001b[0;32m/usr/local/lib/python3.10/dist-packages/rsa/pkcs1.py\u001b[0m in \u001b[0;36mdecrypt\u001b[0;34m(crypto, priv_key)\u001b[0m\n\u001b[1;32m    255\u001b[0m     \u001b[0mblocksize\u001b[0m \u001b[0;34m=\u001b[0m \u001b[0mcommon\u001b[0m\u001b[0;34m.\u001b[0m\u001b[0mbyte_size\u001b[0m\u001b[0;34m(\u001b[0m\u001b[0mpriv_key\u001b[0m\u001b[0;34m.\u001b[0m\u001b[0mn\u001b[0m\u001b[0;34m)\u001b[0m\u001b[0;34m\u001b[0m\u001b[0;34m\u001b[0m\u001b[0m\n\u001b[1;32m    256\u001b[0m     \u001b[0mencrypted\u001b[0m \u001b[0;34m=\u001b[0m \u001b[0mtransform\u001b[0m\u001b[0;34m.\u001b[0m\u001b[0mbytes2int\u001b[0m\u001b[0;34m(\u001b[0m\u001b[0mcrypto\u001b[0m\u001b[0;34m)\u001b[0m\u001b[0;34m\u001b[0m\u001b[0;34m\u001b[0m\u001b[0m\n\u001b[0;32m--> 257\u001b[0;31m     \u001b[0mdecrypted\u001b[0m \u001b[0;34m=\u001b[0m \u001b[0mpriv_key\u001b[0m\u001b[0;34m.\u001b[0m\u001b[0mblinded_decrypt\u001b[0m\u001b[0;34m(\u001b[0m\u001b[0mencrypted\u001b[0m\u001b[0;34m)\u001b[0m\u001b[0;34m\u001b[0m\u001b[0;34m\u001b[0m\u001b[0m\n\u001b[0m\u001b[1;32m    258\u001b[0m     \u001b[0mcleartext\u001b[0m \u001b[0;34m=\u001b[0m \u001b[0mtransform\u001b[0m\u001b[0;34m.\u001b[0m\u001b[0mint2bytes\u001b[0m\u001b[0;34m(\u001b[0m\u001b[0mdecrypted\u001b[0m\u001b[0;34m,\u001b[0m \u001b[0mblocksize\u001b[0m\u001b[0;34m)\u001b[0m\u001b[0;34m\u001b[0m\u001b[0;34m\u001b[0m\u001b[0m\n\u001b[1;32m    259\u001b[0m \u001b[0;34m\u001b[0m\u001b[0m\n",
            "\u001b[0;32m/usr/local/lib/python3.10/dist-packages/rsa/key.py\u001b[0m in \u001b[0;36mblinded_decrypt\u001b[0;34m(self, encrypted)\u001b[0m\n\u001b[1;32m    481\u001b[0m         \u001b[0;31m# decrypted = rsa.core.decrypt_int(blinded, self.d, self.n)\u001b[0m\u001b[0;34m\u001b[0m\u001b[0;34m\u001b[0m\u001b[0m\n\u001b[1;32m    482\u001b[0m         \u001b[0ms1\u001b[0m \u001b[0;34m=\u001b[0m \u001b[0mpow\u001b[0m\u001b[0;34m(\u001b[0m\u001b[0mblinded\u001b[0m\u001b[0;34m,\u001b[0m \u001b[0mself\u001b[0m\u001b[0;34m.\u001b[0m\u001b[0mexp1\u001b[0m\u001b[0;34m,\u001b[0m \u001b[0mself\u001b[0m\u001b[0;34m.\u001b[0m\u001b[0mp\u001b[0m\u001b[0;34m)\u001b[0m\u001b[0;34m\u001b[0m\u001b[0;34m\u001b[0m\u001b[0m\n\u001b[0;32m--> 483\u001b[0;31m         \u001b[0ms2\u001b[0m \u001b[0;34m=\u001b[0m \u001b[0mpow\u001b[0m\u001b[0;34m(\u001b[0m\u001b[0mblinded\u001b[0m\u001b[0;34m,\u001b[0m \u001b[0mself\u001b[0m\u001b[0;34m.\u001b[0m\u001b[0mexp2\u001b[0m\u001b[0;34m,\u001b[0m \u001b[0mself\u001b[0m\u001b[0;34m.\u001b[0m\u001b[0mq\u001b[0m\u001b[0;34m)\u001b[0m\u001b[0;34m\u001b[0m\u001b[0;34m\u001b[0m\u001b[0m\n\u001b[0m\u001b[1;32m    484\u001b[0m         \u001b[0mh\u001b[0m \u001b[0;34m=\u001b[0m \u001b[0;34m(\u001b[0m\u001b[0;34m(\u001b[0m\u001b[0ms1\u001b[0m \u001b[0;34m-\u001b[0m \u001b[0ms2\u001b[0m\u001b[0;34m)\u001b[0m \u001b[0;34m*\u001b[0m \u001b[0mself\u001b[0m\u001b[0;34m.\u001b[0m\u001b[0mcoef\u001b[0m\u001b[0;34m)\u001b[0m \u001b[0;34m%\u001b[0m \u001b[0mself\u001b[0m\u001b[0;34m.\u001b[0m\u001b[0mp\u001b[0m\u001b[0;34m\u001b[0m\u001b[0;34m\u001b[0m\u001b[0m\n\u001b[1;32m    485\u001b[0m         \u001b[0mdecrypted\u001b[0m \u001b[0;34m=\u001b[0m \u001b[0ms2\u001b[0m \u001b[0;34m+\u001b[0m \u001b[0mself\u001b[0m\u001b[0;34m.\u001b[0m\u001b[0mq\u001b[0m \u001b[0;34m*\u001b[0m \u001b[0mh\u001b[0m\u001b[0;34m\u001b[0m\u001b[0;34m\u001b[0m\u001b[0m\n",
            "\u001b[0;31mKeyboardInterrupt\u001b[0m: "
          ]
        }
      ]
    },
    {
      "cell_type": "markdown",
      "source": [
        "FUNCIÓN HASH MD5"
      ],
      "metadata": {
        "id": "TL23sikMaPlF"
      }
    },
    {
      "cell_type": "code",
      "source": [
        "import hashlib"
      ],
      "metadata": {
        "id": "9gyCxmXyMqHh"
      },
      "execution_count": 2,
      "outputs": []
    },
    {
      "cell_type": "code",
      "source": [
        "def hash(num):\n",
        "  texto = leer_archivo(num).encode('utf-8')\n",
        "\n",
        "  inicio = time.time()\n",
        "  result = hashlib.md5(texto)\n",
        "  fin = time.time()\n",
        "\n",
        "  tiempo_transcurrido = round((fin - inicio),5)\n",
        "  print(AZUL + \"Tiempo de cifrado:\"+RESET, tiempo_transcurrido, \"segundos\" + RESET)\n",
        "  escribir_archivo(\"hashmd5\",num, result.digest().decode('latin-1'))"
      ],
      "metadata": {
        "id": "hHZ7nXYtMljI"
      },
      "execution_count": 3,
      "outputs": []
    },
    {
      "cell_type": "code",
      "source": [
        "hash(10)\n",
        "hash(100)\n",
        "hash(1000)\n",
        "hash(10000)\n",
        "hash(100000)\n",
        "hash(1000000)"
      ],
      "metadata": {
        "colab": {
          "base_uri": "https://localhost:8080/"
        },
        "id": "I77Y87cpAV_p",
        "outputId": "d552aa59-d21d-4221-dfb8-d4b8892ec3d8"
      },
      "execution_count": 19,
      "outputs": [
        {
          "output_type": "stream",
          "name": "stdout",
          "text": [
            "\u001b[90mArchivo leido correctamente.\n",
            "\u001b[0m\n",
            "\u001b[94mTiempo de lectura:\u001b[0m 0.00162 segundos\u001b[0m\n",
            "\u001b[94mTiempo de cifrado:\u001b[0m 1e-05 segundos\u001b[0m\n",
            "\u001b[90mArchivo creado y contenido escrito correctamente.\n",
            "\u001b[0m\n",
            "\u001b[90mArchivo leido correctamente.\n",
            "\u001b[0m\n",
            "\u001b[94mTiempo de lectura:\u001b[0m 9e-05 segundos\u001b[0m\n",
            "\u001b[94mTiempo de cifrado:\u001b[0m 1e-05 segundos\u001b[0m\n",
            "\u001b[90mArchivo creado y contenido escrito correctamente.\n",
            "\u001b[0m\n",
            "\u001b[90mArchivo leido correctamente.\n",
            "\u001b[0m\n",
            "\u001b[94mTiempo de lectura:\u001b[0m 0.00011 segundos\u001b[0m\n",
            "\u001b[94mTiempo de cifrado:\u001b[0m 2e-05 segundos\u001b[0m\n",
            "\u001b[90mArchivo creado y contenido escrito correctamente.\n",
            "\u001b[0m\n",
            "\u001b[90mArchivo leido correctamente.\n",
            "\u001b[0m\n",
            "\u001b[94mTiempo de lectura:\u001b[0m 0.00024 segundos\u001b[0m\n",
            "\u001b[94mTiempo de cifrado:\u001b[0m 0.00013 segundos\u001b[0m\n",
            "\u001b[90mArchivo creado y contenido escrito correctamente.\n",
            "\u001b[0m\n",
            "\u001b[90mArchivo leido correctamente.\n",
            "\u001b[0m\n",
            "\u001b[94mTiempo de lectura:\u001b[0m 0.00289 segundos\u001b[0m\n",
            "\u001b[94mTiempo de cifrado:\u001b[0m 0.0014 segundos\u001b[0m\n",
            "\u001b[90mArchivo creado y contenido escrito correctamente.\n",
            "\u001b[0m\n",
            "\u001b[90mArchivo leido correctamente.\n",
            "\u001b[0m\n",
            "\u001b[94mTiempo de lectura:\u001b[0m 0.01882 segundos\u001b[0m\n",
            "\u001b[94mTiempo de cifrado:\u001b[0m 0.01294 segundos\u001b[0m\n",
            "\u001b[90mArchivo creado y contenido escrito correctamente.\n",
            "\u001b[0m\n"
          ]
        }
      ]
    }
  ]
}